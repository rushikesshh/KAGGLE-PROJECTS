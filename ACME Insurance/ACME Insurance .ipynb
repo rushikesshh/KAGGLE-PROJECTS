{
 "cells": [
  {
   "cell_type": "code",
   "execution_count": 1,
   "id": "7e2caa18",
   "metadata": {},
   "outputs": [],
   "source": [
    "import pandas as pd\n",
    "import numpy as np\n",
    "import matplotlib.pyplot as plt\n",
    "import seaborn as sn"
   ]
  },
  {
   "cell_type": "code",
   "execution_count": 251,
   "id": "69dab868",
   "metadata": {},
   "outputs": [
    {
     "data": {
      "text/html": [
       "<div>\n",
       "<style scoped>\n",
       "    .dataframe tbody tr th:only-of-type {\n",
       "        vertical-align: middle;\n",
       "    }\n",
       "\n",
       "    .dataframe tbody tr th {\n",
       "        vertical-align: top;\n",
       "    }\n",
       "\n",
       "    .dataframe thead th {\n",
       "        text-align: right;\n",
       "    }\n",
       "</style>\n",
       "<table border=\"1\" class=\"dataframe\">\n",
       "  <thead>\n",
       "    <tr style=\"text-align: right;\">\n",
       "      <th></th>\n",
       "      <th>age</th>\n",
       "      <th>sex</th>\n",
       "      <th>bmi</th>\n",
       "      <th>children</th>\n",
       "      <th>smoker</th>\n",
       "      <th>region</th>\n",
       "      <th>charges</th>\n",
       "    </tr>\n",
       "  </thead>\n",
       "  <tbody>\n",
       "    <tr>\n",
       "      <th>0</th>\n",
       "      <td>19</td>\n",
       "      <td>female</td>\n",
       "      <td>27.900</td>\n",
       "      <td>0</td>\n",
       "      <td>yes</td>\n",
       "      <td>southwest</td>\n",
       "      <td>16884.92400</td>\n",
       "    </tr>\n",
       "    <tr>\n",
       "      <th>1</th>\n",
       "      <td>18</td>\n",
       "      <td>male</td>\n",
       "      <td>33.770</td>\n",
       "      <td>1</td>\n",
       "      <td>no</td>\n",
       "      <td>southeast</td>\n",
       "      <td>1725.55230</td>\n",
       "    </tr>\n",
       "    <tr>\n",
       "      <th>2</th>\n",
       "      <td>28</td>\n",
       "      <td>male</td>\n",
       "      <td>33.000</td>\n",
       "      <td>3</td>\n",
       "      <td>no</td>\n",
       "      <td>southeast</td>\n",
       "      <td>4449.46200</td>\n",
       "    </tr>\n",
       "    <tr>\n",
       "      <th>3</th>\n",
       "      <td>33</td>\n",
       "      <td>male</td>\n",
       "      <td>22.705</td>\n",
       "      <td>0</td>\n",
       "      <td>no</td>\n",
       "      <td>northwest</td>\n",
       "      <td>21984.47061</td>\n",
       "    </tr>\n",
       "    <tr>\n",
       "      <th>4</th>\n",
       "      <td>32</td>\n",
       "      <td>male</td>\n",
       "      <td>28.880</td>\n",
       "      <td>0</td>\n",
       "      <td>no</td>\n",
       "      <td>northwest</td>\n",
       "      <td>3866.85520</td>\n",
       "    </tr>\n",
       "    <tr>\n",
       "      <th>...</th>\n",
       "      <td>...</td>\n",
       "      <td>...</td>\n",
       "      <td>...</td>\n",
       "      <td>...</td>\n",
       "      <td>...</td>\n",
       "      <td>...</td>\n",
       "      <td>...</td>\n",
       "    </tr>\n",
       "    <tr>\n",
       "      <th>1333</th>\n",
       "      <td>50</td>\n",
       "      <td>male</td>\n",
       "      <td>30.970</td>\n",
       "      <td>3</td>\n",
       "      <td>no</td>\n",
       "      <td>northwest</td>\n",
       "      <td>10600.54830</td>\n",
       "    </tr>\n",
       "    <tr>\n",
       "      <th>1334</th>\n",
       "      <td>18</td>\n",
       "      <td>female</td>\n",
       "      <td>31.920</td>\n",
       "      <td>0</td>\n",
       "      <td>no</td>\n",
       "      <td>northeast</td>\n",
       "      <td>2205.98080</td>\n",
       "    </tr>\n",
       "    <tr>\n",
       "      <th>1335</th>\n",
       "      <td>18</td>\n",
       "      <td>female</td>\n",
       "      <td>36.850</td>\n",
       "      <td>0</td>\n",
       "      <td>no</td>\n",
       "      <td>southeast</td>\n",
       "      <td>1629.83350</td>\n",
       "    </tr>\n",
       "    <tr>\n",
       "      <th>1336</th>\n",
       "      <td>21</td>\n",
       "      <td>female</td>\n",
       "      <td>25.800</td>\n",
       "      <td>0</td>\n",
       "      <td>no</td>\n",
       "      <td>southwest</td>\n",
       "      <td>2007.94500</td>\n",
       "    </tr>\n",
       "    <tr>\n",
       "      <th>1337</th>\n",
       "      <td>61</td>\n",
       "      <td>female</td>\n",
       "      <td>29.070</td>\n",
       "      <td>0</td>\n",
       "      <td>yes</td>\n",
       "      <td>northwest</td>\n",
       "      <td>29141.36030</td>\n",
       "    </tr>\n",
       "  </tbody>\n",
       "</table>\n",
       "<p>1338 rows × 7 columns</p>\n",
       "</div>"
      ],
      "text/plain": [
       "      age     sex     bmi  children smoker     region      charges\n",
       "0      19  female  27.900         0    yes  southwest  16884.92400\n",
       "1      18    male  33.770         1     no  southeast   1725.55230\n",
       "2      28    male  33.000         3     no  southeast   4449.46200\n",
       "3      33    male  22.705         0     no  northwest  21984.47061\n",
       "4      32    male  28.880         0     no  northwest   3866.85520\n",
       "...   ...     ...     ...       ...    ...        ...          ...\n",
       "1333   50    male  30.970         3     no  northwest  10600.54830\n",
       "1334   18  female  31.920         0     no  northeast   2205.98080\n",
       "1335   18  female  36.850         0     no  southeast   1629.83350\n",
       "1336   21  female  25.800         0     no  southwest   2007.94500\n",
       "1337   61  female  29.070         0    yes  northwest  29141.36030\n",
       "\n",
       "[1338 rows x 7 columns]"
      ]
     },
     "execution_count": 251,
     "metadata": {},
     "output_type": "execute_result"
    }
   ],
   "source": [
    "data = pd.read_csv(\"C:\\\\Users\\\\RUSHIKESH\\\\Downloads\\\\expenses.csv\")\n",
    "data"
   ]
  },
  {
   "cell_type": "markdown",
   "id": "81568cde",
   "metadata": {},
   "source": [
    "## Exploratory data analysis :- "
   ]
  },
  {
   "cell_type": "code",
   "execution_count": 252,
   "id": "4d4c06ce",
   "metadata": {},
   "outputs": [
    {
     "data": {
      "text/plain": [
       "southeast    364\n",
       "southwest    325\n",
       "northwest    325\n",
       "northeast    324\n",
       "Name: region, dtype: int64"
      ]
     },
     "execution_count": 252,
     "metadata": {},
     "output_type": "execute_result"
    }
   ],
   "source": [
    "data['region'].value_counts()"
   ]
  },
  {
   "cell_type": "code",
   "execution_count": 3,
   "id": "09905cb3",
   "metadata": {},
   "outputs": [
    {
     "data": {
      "text/plain": [
       "age         0\n",
       "sex         0\n",
       "bmi         0\n",
       "children    0\n",
       "smoker      0\n",
       "region      0\n",
       "charges     0\n",
       "dtype: int64"
      ]
     },
     "execution_count": 3,
     "metadata": {},
     "output_type": "execute_result"
    }
   ],
   "source": [
    "data.isnull().sum()"
   ]
  },
  {
   "cell_type": "code",
   "execution_count": 4,
   "id": "753cfc58",
   "metadata": {},
   "outputs": [
    {
     "name": "stdout",
     "output_type": "stream",
     "text": [
      "<class 'pandas.core.frame.DataFrame'>\n",
      "RangeIndex: 1338 entries, 0 to 1337\n",
      "Data columns (total 7 columns):\n",
      " #   Column    Non-Null Count  Dtype  \n",
      "---  ------    --------------  -----  \n",
      " 0   age       1338 non-null   int64  \n",
      " 1   sex       1338 non-null   object \n",
      " 2   bmi       1338 non-null   float64\n",
      " 3   children  1338 non-null   int64  \n",
      " 4   smoker    1338 non-null   object \n",
      " 5   region    1338 non-null   object \n",
      " 6   charges   1338 non-null   float64\n",
      "dtypes: float64(2), int64(2), object(3)\n",
      "memory usage: 73.3+ KB\n"
     ]
    }
   ],
   "source": [
    "data.info()"
   ]
  },
  {
   "cell_type": "code",
   "execution_count": 39,
   "id": "3fcdc0a5",
   "metadata": {},
   "outputs": [
    {
     "data": {
      "text/plain": [
       "<seaborn.axisgrid.PairGrid at 0x236eb43cbe0>"
      ]
     },
     "execution_count": 39,
     "metadata": {},
     "output_type": "execute_result"
    },
    {
     "data": {
      "image/png": "[encoded data removed]",
      "text/plain": [
       "<Figure size 1260x1260 with 56 Axes>"
      ]
     },
     "metadata": {
      "needs_background": "light"
     },
     "output_type": "display_data"
    }
   ],
   "source": [
    "sn.pairplot(clean_data)"
   ]
  },
  {
   "cell_type": "code",
   "execution_count": 5,
   "id": "4d9dffe5",
   "metadata": {},
   "outputs": [
    {
     "data": {
      "text/plain": [
       "(array([574.,   0., 324.,   0., 240.,   0., 157.,   0.,  25.,  18.]),\n",
       " array([0. , 0.5, 1. , 1.5, 2. , 2.5, 3. , 3.5, 4. , 4.5, 5. ]),\n",
       " <BarContainer object of 10 artists>)"
      ]
     },
     "execution_count": 5,
     "metadata": {},
     "output_type": "execute_result"
    },
    {
     "data": {
      "image/png": "[encoded data removed]",
      "text/plain": [
       "<Figure size 432x288 with 1 Axes>"
      ]
     },
     "metadata": {
      "needs_background": "light"
     },
     "output_type": "display_data"
    }
   ],
   "source": [
    "plt.hist(data.children, edgecolor='black')"
   ]
  },
  {
   "cell_type": "code",
   "execution_count": 6,
   "id": "367bf951",
   "metadata": {},
   "outputs": [
    {
     "data": {
      "text/plain": [
       "{'whiskers': [<matplotlib.lines.Line2D at 0x236eabe2b20>,\n",
       "  <matplotlib.lines.Line2D at 0x236eabe2e80>],\n",
       " 'caps': [<matplotlib.lines.Line2D at 0x236eabf4220>,\n",
       "  <matplotlib.lines.Line2D at 0x236eabf4580>],\n",
       " 'boxes': [<matplotlib.lines.Line2D at 0x236eabe2790>],\n",
       " 'medians': [<matplotlib.lines.Line2D at 0x236eabf48e0>],\n",
       " 'fliers': [<matplotlib.lines.Line2D at 0x236eabf4c40>],\n",
       " 'means': []}"
      ]
     },
     "execution_count": 6,
     "metadata": {},
     "output_type": "execute_result"
    },
    {
     "data": {
      "image/png": "[encoded data removed]",
      "text/plain": [
       "<Figure size 432x288 with 1 Axes>"
      ]
     },
     "metadata": {
      "needs_background": "light"
     },
     "output_type": "display_data"
    }
   ],
   "source": [
    "plt.boxplot(data.children)"
   ]
  },
  {
   "cell_type": "markdown",
   "id": "cdb67057",
   "metadata": {},
   "source": [
    "### we check with all features there no any outlier present in our data "
   ]
  },
  {
   "cell_type": "code",
   "execution_count": 7,
   "id": "1d37f1e7",
   "metadata": {},
   "outputs": [
    {
     "data": {
      "text/html": [
       "<div>\n",
       "<style scoped>\n",
       "    .dataframe tbody tr th:only-of-type {\n",
       "        vertical-align: middle;\n",
       "    }\n",
       "\n",
       "    .dataframe tbody tr th {\n",
       "        vertical-align: top;\n",
       "    }\n",
       "\n",
       "    .dataframe thead th {\n",
       "        text-align: right;\n",
       "    }\n",
       "</style>\n",
       "<table border=\"1\" class=\"dataframe\">\n",
       "  <thead>\n",
       "    <tr style=\"text-align: right;\">\n",
       "      <th></th>\n",
       "      <th>age</th>\n",
       "      <th>sex</th>\n",
       "      <th>bmi</th>\n",
       "      <th>children</th>\n",
       "      <th>smoker</th>\n",
       "      <th>region</th>\n",
       "      <th>charges</th>\n",
       "    </tr>\n",
       "  </thead>\n",
       "  <tbody>\n",
       "    <tr>\n",
       "      <th>581</th>\n",
       "      <td>19</td>\n",
       "      <td>male</td>\n",
       "      <td>30.59</td>\n",
       "      <td>0</td>\n",
       "      <td>no</td>\n",
       "      <td>northwest</td>\n",
       "      <td>1639.5631</td>\n",
       "    </tr>\n",
       "  </tbody>\n",
       "</table>\n",
       "</div>"
      ],
      "text/plain": [
       "     age   sex    bmi  children smoker     region    charges\n",
       "581   19  male  30.59         0     no  northwest  1639.5631"
      ]
     },
     "execution_count": 7,
     "metadata": {},
     "output_type": "execute_result"
    }
   ],
   "source": [
    "data[data.duplicated()]"
   ]
  },
  {
   "cell_type": "code",
   "execution_count": 16,
   "id": "9cef1445",
   "metadata": {},
   "outputs": [
    {
     "data": {
      "text/html": [
       "<div>\n",
       "<style scoped>\n",
       "    .dataframe tbody tr th:only-of-type {\n",
       "        vertical-align: middle;\n",
       "    }\n",
       "\n",
       "    .dataframe tbody tr th {\n",
       "        vertical-align: top;\n",
       "    }\n",
       "\n",
       "    .dataframe thead th {\n",
       "        text-align: right;\n",
       "    }\n",
       "</style>\n",
       "<table border=\"1\" class=\"dataframe\">\n",
       "  <thead>\n",
       "    <tr style=\"text-align: right;\">\n",
       "      <th></th>\n",
       "      <th>age</th>\n",
       "      <th>sex</th>\n",
       "      <th>bmi</th>\n",
       "      <th>children</th>\n",
       "      <th>smoker</th>\n",
       "      <th>region</th>\n",
       "      <th>charges</th>\n",
       "    </tr>\n",
       "  </thead>\n",
       "  <tbody>\n",
       "    <tr>\n",
       "      <th>0</th>\n",
       "      <td>19</td>\n",
       "      <td>female</td>\n",
       "      <td>27.900</td>\n",
       "      <td>0</td>\n",
       "      <td>yes</td>\n",
       "      <td>southwest</td>\n",
       "      <td>16884.92400</td>\n",
       "    </tr>\n",
       "    <tr>\n",
       "      <th>1</th>\n",
       "      <td>18</td>\n",
       "      <td>male</td>\n",
       "      <td>33.770</td>\n",
       "      <td>1</td>\n",
       "      <td>no</td>\n",
       "      <td>southeast</td>\n",
       "      <td>1725.55230</td>\n",
       "    </tr>\n",
       "    <tr>\n",
       "      <th>2</th>\n",
       "      <td>28</td>\n",
       "      <td>male</td>\n",
       "      <td>33.000</td>\n",
       "      <td>3</td>\n",
       "      <td>no</td>\n",
       "      <td>southeast</td>\n",
       "      <td>4449.46200</td>\n",
       "    </tr>\n",
       "    <tr>\n",
       "      <th>3</th>\n",
       "      <td>33</td>\n",
       "      <td>male</td>\n",
       "      <td>22.705</td>\n",
       "      <td>0</td>\n",
       "      <td>no</td>\n",
       "      <td>northwest</td>\n",
       "      <td>21984.47061</td>\n",
       "    </tr>\n",
       "    <tr>\n",
       "      <th>4</th>\n",
       "      <td>32</td>\n",
       "      <td>male</td>\n",
       "      <td>28.880</td>\n",
       "      <td>0</td>\n",
       "      <td>no</td>\n",
       "      <td>northwest</td>\n",
       "      <td>3866.85520</td>\n",
       "    </tr>\n",
       "    <tr>\n",
       "      <th>...</th>\n",
       "      <td>...</td>\n",
       "      <td>...</td>\n",
       "      <td>...</td>\n",
       "      <td>...</td>\n",
       "      <td>...</td>\n",
       "      <td>...</td>\n",
       "      <td>...</td>\n",
       "    </tr>\n",
       "    <tr>\n",
       "      <th>1332</th>\n",
       "      <td>50</td>\n",
       "      <td>male</td>\n",
       "      <td>30.970</td>\n",
       "      <td>3</td>\n",
       "      <td>no</td>\n",
       "      <td>northwest</td>\n",
       "      <td>10600.54830</td>\n",
       "    </tr>\n",
       "    <tr>\n",
       "      <th>1333</th>\n",
       "      <td>18</td>\n",
       "      <td>female</td>\n",
       "      <td>31.920</td>\n",
       "      <td>0</td>\n",
       "      <td>no</td>\n",
       "      <td>northeast</td>\n",
       "      <td>2205.98080</td>\n",
       "    </tr>\n",
       "    <tr>\n",
       "      <th>1334</th>\n",
       "      <td>18</td>\n",
       "      <td>female</td>\n",
       "      <td>36.850</td>\n",
       "      <td>0</td>\n",
       "      <td>no</td>\n",
       "      <td>southeast</td>\n",
       "      <td>1629.83350</td>\n",
       "    </tr>\n",
       "    <tr>\n",
       "      <th>1335</th>\n",
       "      <td>21</td>\n",
       "      <td>female</td>\n",
       "      <td>25.800</td>\n",
       "      <td>0</td>\n",
       "      <td>no</td>\n",
       "      <td>southwest</td>\n",
       "      <td>2007.94500</td>\n",
       "    </tr>\n",
       "    <tr>\n",
       "      <th>1336</th>\n",
       "      <td>61</td>\n",
       "      <td>female</td>\n",
       "      <td>29.070</td>\n",
       "      <td>0</td>\n",
       "      <td>yes</td>\n",
       "      <td>northwest</td>\n",
       "      <td>29141.36030</td>\n",
       "    </tr>\n",
       "  </tbody>\n",
       "</table>\n",
       "<p>1337 rows × 7 columns</p>\n",
       "</div>"
      ],
      "text/plain": [
       "      age     sex     bmi  children smoker     region      charges\n",
       "0      19  female  27.900         0    yes  southwest  16884.92400\n",
       "1      18    male  33.770         1     no  southeast   1725.55230\n",
       "2      28    male  33.000         3     no  southeast   4449.46200\n",
       "3      33    male  22.705         0     no  northwest  21984.47061\n",
       "4      32    male  28.880         0     no  northwest   3866.85520\n",
       "...   ...     ...     ...       ...    ...        ...          ...\n",
       "1332   50    male  30.970         3     no  northwest  10600.54830\n",
       "1333   18  female  31.920         0     no  northeast   2205.98080\n",
       "1334   18  female  36.850         0     no  southeast   1629.83350\n",
       "1335   21  female  25.800         0     no  southwest   2007.94500\n",
       "1336   61  female  29.070         0    yes  northwest  29141.36030\n",
       "\n",
       "[1337 rows x 7 columns]"
      ]
     },
     "execution_count": 16,
     "metadata": {},
     "output_type": "execute_result"
    }
   ],
   "source": [
    "clean_data = data.drop_duplicates()\n",
    "\n",
    "clean_data.reset_index(drop=True)"
   ]
  },
  {
   "cell_type": "code",
   "execution_count": 29,
   "id": "a14a415b",
   "metadata": {},
   "outputs": [
    {
     "name": "stderr",
     "output_type": "stream",
     "text": [
      "<ipython-input-29-cd2b849d8db5>:5: SettingWithCopyWarning: \n",
      "A value is trying to be set on a copy of a slice from a DataFrame.\n",
      "Try using .loc[row_indexer,col_indexer] = value instead\n",
      "\n",
      "See the caveats in the documentation: https://pandas.pydata.org/pandas-docs/stable/user_guide/indexing.html#returning-a-view-versus-a-copy\n",
      "  clean_data['sex'] = label_encoder.fit_transform(clean_data['sex'])\n",
      "<ipython-input-29-cd2b849d8db5>:6: SettingWithCopyWarning: \n",
      "A value is trying to be set on a copy of a slice from a DataFrame.\n",
      "Try using .loc[row_indexer,col_indexer] = value instead\n",
      "\n",
      "See the caveats in the documentation: https://pandas.pydata.org/pandas-docs/stable/user_guide/indexing.html#returning-a-view-versus-a-copy\n",
      "  clean_data['smoker'] = label_encoder.fit_transform(clean_data['smoker'])\n",
      "<ipython-input-29-cd2b849d8db5>:7: SettingWithCopyWarning: \n",
      "A value is trying to be set on a copy of a slice from a DataFrame.\n",
      "Try using .loc[row_indexer,col_indexer] = value instead\n",
      "\n",
      "See the caveats in the documentation: https://pandas.pydata.org/pandas-docs/stable/user_guide/indexing.html#returning-a-view-versus-a-copy\n",
      "  clean_data['region'] = label_encoder.fit_transform(clean_data['region'])\n"
     ]
    }
   ],
   "source": [
    "from sklearn.preprocessing import LabelEncoder\n",
    "\n",
    "label_encoder = LabelEncoder()\n",
    "\n",
    "clean_data['sex'] = label_encoder.fit_transform(clean_data['sex'])\n",
    "clean_data['smoker'] = label_encoder.fit_transform(clean_data['smoker'])\n",
    "clean_data['region'] = label_encoder.fit_transform(clean_data['region'])"
   ]
  },
  {
   "cell_type": "code",
   "execution_count": 34,
   "id": "90f9ad40",
   "metadata": {},
   "outputs": [
    {
     "data": {
      "text/plain": [
       "2    364\n",
       "3    325\n",
       "0    324\n",
       "1    324\n",
       "Name: region, dtype: int64"
      ]
     },
     "execution_count": 34,
     "metadata": {},
     "output_type": "execute_result"
    }
   ],
   "source": [
    "clean_data['region'].value_counts()"
   ]
  },
  {
   "cell_type": "code",
   "execution_count": 31,
   "id": "5f3791c9",
   "metadata": {},
   "outputs": [],
   "source": [
    "### Divingg the data :-"
   ]
  },
  {
   "cell_type": "code",
   "execution_count": 33,
   "id": "3113c3e7",
   "metadata": {},
   "outputs": [],
   "source": [
    "X = clean_data.iloc[:,:-1]\n",
    "Y = clean_data.iloc[:,-1]"
   ]
  },
  {
   "cell_type": "code",
   "execution_count": 188,
   "id": "1c3defca",
   "metadata": {},
   "outputs": [],
   "source": [
    "from sklearn.model_selection import train_test_split"
   ]
  },
  {
   "cell_type": "code",
   "execution_count": 189,
   "id": "d6308a58",
   "metadata": {},
   "outputs": [],
   "source": [
    "x_train, x_test , y_train, y_test = train_test_split(X,Y , test_size=0.25)"
   ]
  },
  {
   "cell_type": "markdown",
   "id": "32bcdcaf",
   "metadata": {},
   "source": [
    "## Model Building :-"
   ]
  },
  {
   "cell_type": "markdown",
   "id": "15e75b40",
   "metadata": {},
   "source": [
    " ## linear_model :-"
   ]
  },
  {
   "cell_type": "code",
   "execution_count": 40,
   "id": "8fb5de3c",
   "metadata": {},
   "outputs": [],
   "source": [
    "from sklearn.linear_model import LinearRegression "
   ]
  },
  {
   "cell_type": "code",
   "execution_count": 41,
   "id": "d496ebe6",
   "metadata": {},
   "outputs": [],
   "source": [
    "model_1 = LinearRegression()"
   ]
  },
  {
   "cell_type": "code",
   "execution_count": 42,
   "id": "dfb64352",
   "metadata": {},
   "outputs": [
    {
     "data": {
      "text/plain": [
       "LinearRegression()"
      ]
     },
     "execution_count": 42,
     "metadata": {},
     "output_type": "execute_result"
    }
   ],
   "source": [
    "model_1.fit(x_train, y_train)"
   ]
  },
  {
   "cell_type": "code",
   "execution_count": 67,
   "id": "52e1460e",
   "metadata": {},
   "outputs": [],
   "source": [
    "pred_linear = model_1.predict(x_test)"
   ]
  },
  {
   "cell_type": "code",
   "execution_count": 51,
   "id": "4888d36c",
   "metadata": {},
   "outputs": [],
   "source": [
    "def RMSE(actual, predict):\n",
    "    resule = np.sqrt(np.mean(actual-predict)**2)\n",
    "    return resule"
   ]
  },
  {
   "cell_type": "code",
   "execution_count": 53,
   "id": "5b25494d",
   "metadata": {},
   "outputs": [
    {
     "data": {
      "text/plain": [
       "30.18820890737723"
      ]
     },
     "execution_count": 53,
     "metadata": {},
     "output_type": "execute_result"
    }
   ],
   "source": [
    "rmse_linear = RMSE(y_test, pred_linear)\n",
    "rmse_linear"
   ]
  },
  {
   "cell_type": "code",
   "execution_count": null,
   "id": "99bcdd91",
   "metadata": {},
   "outputs": [],
   "source": []
  },
  {
   "cell_type": "markdown",
   "id": "b7aa2478",
   "metadata": {},
   "source": [
    "## Decision Tree :-"
   ]
  },
  {
   "cell_type": "code",
   "execution_count": 54,
   "id": "bbdbb464",
   "metadata": {},
   "outputs": [],
   "source": [
    "from sklearn.tree import DecisionTreeRegressor"
   ]
  },
  {
   "cell_type": "code",
   "execution_count": 55,
   "id": "a1c8b4ac",
   "metadata": {},
   "outputs": [],
   "source": [
    "model_2 = DecisionTreeRegressor()"
   ]
  },
  {
   "cell_type": "code",
   "execution_count": 56,
   "id": "2f114e4d",
   "metadata": {},
   "outputs": [
    {
     "data": {
      "text/plain": [
       "DecisionTreeRegressor()"
      ]
     },
     "execution_count": 56,
     "metadata": {},
     "output_type": "execute_result"
    }
   ],
   "source": [
    "model_2.fit(x_train, y_train)"
   ]
  },
  {
   "cell_type": "code",
   "execution_count": 65,
   "id": "dd1ebd78",
   "metadata": {},
   "outputs": [],
   "source": [
    "pred_deci_tree = model_2.predict(x_test)"
   ]
  },
  {
   "cell_type": "code",
   "execution_count": 70,
   "id": "5da24ba4",
   "metadata": {},
   "outputs": [
    {
     "data": {
      "text/plain": [
       "219.78672549253704"
      ]
     },
     "execution_count": 70,
     "metadata": {},
     "output_type": "execute_result"
    }
   ],
   "source": [
    "rmse_deci_tree = RMSE(y_test, pred_deci_tree)\n",
    "rmse_deci_tree"
   ]
  },
  {
   "cell_type": "code",
   "execution_count": null,
   "id": "19ffe414",
   "metadata": {},
   "outputs": [],
   "source": []
  },
  {
   "cell_type": "markdown",
   "id": "82df1fdd",
   "metadata": {},
   "source": [
    "## Ridge Regression :- "
   ]
  },
  {
   "cell_type": "code",
   "execution_count": 71,
   "id": "ba0dc6db",
   "metadata": {},
   "outputs": [],
   "source": [
    "from sklearn.linear_model import Ridge"
   ]
  },
  {
   "cell_type": "code",
   "execution_count": 72,
   "id": "0db035ff",
   "metadata": {},
   "outputs": [],
   "source": [
    "model_3 = Ridge(alpha=1)"
   ]
  },
  {
   "cell_type": "code",
   "execution_count": 73,
   "id": "12acc8a2",
   "metadata": {},
   "outputs": [
    {
     "data": {
      "text/plain": [
       "Ridge(alpha=1)"
      ]
     },
     "execution_count": 73,
     "metadata": {},
     "output_type": "execute_result"
    }
   ],
   "source": [
    "model_3.fit(x_train, y_train)"
   ]
  },
  {
   "cell_type": "code",
   "execution_count": 74,
   "id": "ca58cd20",
   "metadata": {},
   "outputs": [],
   "source": [
    "pred_ridge = model_3.predict(x_test)"
   ]
  },
  {
   "cell_type": "code",
   "execution_count": 75,
   "id": "194f3f71",
   "metadata": {},
   "outputs": [
    {
     "data": {
      "text/plain": [
       "29.858065743858567"
      ]
     },
     "execution_count": 75,
     "metadata": {},
     "output_type": "execute_result"
    }
   ],
   "source": [
    "rmse_ridge = RMSE(y_test, pred_ridge)\n",
    "rmse_ridge"
   ]
  },
  {
   "cell_type": "code",
   "execution_count": null,
   "id": "b4647a5e",
   "metadata": {},
   "outputs": [],
   "source": []
  },
  {
   "cell_type": "markdown",
   "id": "a1f25739",
   "metadata": {},
   "source": [
    "## lasso Regularization :- "
   ]
  },
  {
   "cell_type": "code",
   "execution_count": 76,
   "id": "c6be48ae",
   "metadata": {},
   "outputs": [],
   "source": [
    "from sklearn.linear_model import Lasso"
   ]
  },
  {
   "cell_type": "code",
   "execution_count": 77,
   "id": "9790b16e",
   "metadata": {},
   "outputs": [],
   "source": [
    "model_4 = Lasso(alpha=1)\n"
   ]
  },
  {
   "cell_type": "code",
   "execution_count": 78,
   "id": "41c964c8",
   "metadata": {},
   "outputs": [
    {
     "data": {
      "text/plain": [
       "Lasso(alpha=1)"
      ]
     },
     "execution_count": 78,
     "metadata": {},
     "output_type": "execute_result"
    }
   ],
   "source": [
    "model_4.fit(x_train, y_train)"
   ]
  },
  {
   "cell_type": "code",
   "execution_count": 79,
   "id": "cea8163b",
   "metadata": {},
   "outputs": [],
   "source": [
    "pred_lasso = model_4.predict(x_test)"
   ]
  },
  {
   "cell_type": "code",
   "execution_count": 81,
   "id": "2ce6f208",
   "metadata": {},
   "outputs": [
    {
     "data": {
      "text/plain": [
       "30.164206184607007"
      ]
     },
     "execution_count": 81,
     "metadata": {},
     "output_type": "execute_result"
    }
   ],
   "source": [
    "rmse_lasso = RMSE(y_test, pred_lasso)\n",
    "rmse_lasso"
   ]
  },
  {
   "cell_type": "code",
   "execution_count": null,
   "id": "00a2a3d1",
   "metadata": {},
   "outputs": [],
   "source": []
  },
  {
   "cell_type": "markdown",
   "id": "fa69e4fc",
   "metadata": {},
   "source": [
    "## K-Nearest Neighbor :- "
   ]
  },
  {
   "cell_type": "code",
   "execution_count": 89,
   "id": "c7fce8b3",
   "metadata": {},
   "outputs": [],
   "source": [
    "from sklearn.neighbors import KNeighborsRegressor\n",
    "from sklearn.model_selection import GridSearchCV"
   ]
  },
  {
   "cell_type": "code",
   "execution_count": 85,
   "id": "8a782778",
   "metadata": {},
   "outputs": [
    {
     "data": {
      "text/plain": [
       "{'n_neighbors': array([ 3,  5,  7,  9, 11, 13, 15, 17, 19, 21, 23, 25, 27, 29, 31, 33, 35,\n",
       "        37, 39])}"
      ]
     },
     "execution_count": 85,
     "metadata": {},
     "output_type": "execute_result"
    }
   ],
   "source": [
    "k_values = np.array(range(3,40,2))\n",
    "\n",
    "param_grid = dict(n_neighbors=k_values )\n",
    "param_grid"
   ]
  },
  {
   "cell_type": "code",
   "execution_count": 90,
   "id": "47c50b56",
   "metadata": {},
   "outputs": [],
   "source": [
    "model = KNeighborsRegressor()"
   ]
  },
  {
   "cell_type": "code",
   "execution_count": 91,
   "id": "ad0fe3ae",
   "metadata": {},
   "outputs": [],
   "source": [
    "model_5 = GridSearchCV(estimator = model , param_grid = param_grid)"
   ]
  },
  {
   "cell_type": "code",
   "execution_count": 92,
   "id": "207895fd",
   "metadata": {},
   "outputs": [
    {
     "data": {
      "text/plain": [
       "GridSearchCV(estimator=KNeighborsRegressor(),\n",
       "             param_grid={'n_neighbors': array([ 3,  5,  7,  9, 11, 13, 15, 17, 19, 21, 23, 25, 27, 29, 31, 33, 35,\n",
       "       37, 39])})"
      ]
     },
     "execution_count": 92,
     "metadata": {},
     "output_type": "execute_result"
    }
   ],
   "source": [
    "model_5.fit(x_train, y_train)"
   ]
  },
  {
   "cell_type": "code",
   "execution_count": 94,
   "id": "42490c59",
   "metadata": {},
   "outputs": [
    {
     "name": "stdout",
     "output_type": "stream",
     "text": [
      "0.16418646971716933\n",
      "{'n_neighbors': 9}\n"
     ]
    }
   ],
   "source": [
    "print(model_5.best_score_)\n",
    "print(model_5.best_params_)"
   ]
  },
  {
   "cell_type": "code",
   "execution_count": 95,
   "id": "d0b1f879",
   "metadata": {},
   "outputs": [],
   "source": [
    "pred_knn = model_5.predict(x_test)"
   ]
  },
  {
   "cell_type": "code",
   "execution_count": 96,
   "id": "cd9ed7aa",
   "metadata": {},
   "outputs": [
    {
     "data": {
      "text/plain": [
       "632.0903776295188"
      ]
     },
     "execution_count": 96,
     "metadata": {},
     "output_type": "execute_result"
    }
   ],
   "source": [
    "rmse_knn = RMSE(y_test, pred_knn)\n",
    "rmse_knn"
   ]
  },
  {
   "cell_type": "code",
   "execution_count": null,
   "id": "5685bc5b",
   "metadata": {},
   "outputs": [],
   "source": []
  },
  {
   "cell_type": "markdown",
   "id": "3e937e26",
   "metadata": {},
   "source": [
    "## Bagging Regressor :-"
   ]
  },
  {
   "cell_type": "code",
   "execution_count": 98,
   "id": "10e94f4d",
   "metadata": {},
   "outputs": [],
   "source": [
    "from sklearn.ensemble import BaggingRegressor\n",
    "from sklearn.tree import DecisionTreeRegressor"
   ]
  },
  {
   "cell_type": "code",
   "execution_count": 99,
   "id": "7ab670e5",
   "metadata": {},
   "outputs": [],
   "source": [
    "model = DecisionTreeRegressor ()"
   ]
  },
  {
   "cell_type": "code",
   "execution_count": 107,
   "id": "4b472125",
   "metadata": {},
   "outputs": [
    {
     "data": {
      "text/plain": [
       "{'n_estimators': array([100, 150, 200, 250, 300, 400]),\n",
       " 'base_estimator': [DecisionTreeRegressor()]}"
      ]
     },
     "execution_count": 107,
     "metadata": {},
     "output_type": "execute_result"
    }
   ],
   "source": [
    "num_trees = np.array([100,150,200,250,300,400])\n",
    "\n",
    "param_grid = dict(n_estimators = num_trees,  base_estimator = [model])\n",
    "param_grid"
   ]
  },
  {
   "cell_type": "code",
   "execution_count": 108,
   "id": "9cf4bcc2",
   "metadata": {},
   "outputs": [],
   "source": [
    "model_6 = GridSearchCV(estimator = BaggingRegressor(), param_grid=param_grid)"
   ]
  },
  {
   "cell_type": "code",
   "execution_count": 109,
   "id": "f6ee0e19",
   "metadata": {},
   "outputs": [
    {
     "data": {
      "text/plain": [
       "GridSearchCV(estimator=BaggingRegressor(),\n",
       "             param_grid={'base_estimator': [DecisionTreeRegressor()],\n",
       "                         'n_estimators': array([100, 150, 200, 250, 300, 400])})"
      ]
     },
     "execution_count": 109,
     "metadata": {},
     "output_type": "execute_result"
    }
   ],
   "source": [
    "model_6.fit(x_train, y_train)"
   ]
  },
  {
   "cell_type": "code",
   "execution_count": 110,
   "id": "3ec0f15d",
   "metadata": {},
   "outputs": [
    {
     "name": "stdout",
     "output_type": "stream",
     "text": [
      "0.8401706669788244\n",
      "{'base_estimator': DecisionTreeRegressor(), 'n_estimators': 150}\n"
     ]
    }
   ],
   "source": [
    "print(model_6.best_score_)\n",
    "print(model_6.best_params_)"
   ]
  },
  {
   "cell_type": "code",
   "execution_count": 112,
   "id": "34d6e66e",
   "metadata": {},
   "outputs": [],
   "source": [
    "pred_bagg = model_6.predict(x_test)"
   ]
  },
  {
   "cell_type": "code",
   "execution_count": 113,
   "id": "7e95a06b",
   "metadata": {},
   "outputs": [
    {
     "data": {
      "text/plain": [
       "329.88743600881753"
      ]
     },
     "execution_count": 113,
     "metadata": {},
     "output_type": "execute_result"
    }
   ],
   "source": [
    "rmse_bagg = RMSE(y_test, pred_bagg)\n",
    "rmse_bagg"
   ]
  },
  {
   "cell_type": "code",
   "execution_count": null,
   "id": "e15fb347",
   "metadata": {},
   "outputs": [],
   "source": []
  },
  {
   "cell_type": "markdown",
   "id": "435ae12c",
   "metadata": {},
   "source": [
    "## Random Forest technique :-"
   ]
  },
  {
   "cell_type": "code",
   "execution_count": 114,
   "id": "cd1dbc4f",
   "metadata": {},
   "outputs": [],
   "source": [
    "from sklearn.ensemble import RandomForestRegressor"
   ]
  },
  {
   "cell_type": "code",
   "execution_count": 115,
   "id": "3b10840d",
   "metadata": {},
   "outputs": [],
   "source": [
    "model = RandomForestRegressor()"
   ]
  },
  {
   "cell_type": "code",
   "execution_count": 116,
   "id": "20116200",
   "metadata": {},
   "outputs": [
    {
     "data": {
      "text/plain": [
       "{'n_estimators': array([100, 150, 200, 250, 300, 400]),\n",
       " 'max_features': array([3, 4, 5, 6])}"
      ]
     },
     "execution_count": 116,
     "metadata": {},
     "output_type": "execute_result"
    }
   ],
   "source": [
    "num_trees = np.array([100,150,200,250,300,400])\n",
    "max_features = np.array([3,4,5,6])\n",
    "model = RandomForestRegressor()\n",
    "\n",
    "param_grid = dict(n_estimators = num_trees, max_features = max_features  )\n",
    "param_grid"
   ]
  },
  {
   "cell_type": "code",
   "execution_count": 117,
   "id": "83d458c3",
   "metadata": {},
   "outputs": [],
   "source": [
    "model_7 = GridSearchCV(estimator = model , param_grid = param_grid)"
   ]
  },
  {
   "cell_type": "code",
   "execution_count": 118,
   "id": "f106e324",
   "metadata": {},
   "outputs": [
    {
     "data": {
      "text/plain": [
       "GridSearchCV(estimator=RandomForestRegressor(),\n",
       "             param_grid={'max_features': array([3, 4, 5, 6]),\n",
       "                         'n_estimators': array([100, 150, 200, 250, 300, 400])})"
      ]
     },
     "execution_count": 118,
     "metadata": {},
     "output_type": "execute_result"
    }
   ],
   "source": [
    "model_7.fit(x_train, y_train)"
   ]
  },
  {
   "cell_type": "code",
   "execution_count": 119,
   "id": "51c66287",
   "metadata": {},
   "outputs": [
    {
     "name": "stdout",
     "output_type": "stream",
     "text": [
      "0.8481157070862062\n",
      "{'max_features': 3, 'n_estimators': 300}\n"
     ]
    }
   ],
   "source": [
    "print(model_7.best_score_)\n",
    "print(model_7.best_params_)"
   ]
  },
  {
   "cell_type": "code",
   "execution_count": 120,
   "id": "fc421e5a",
   "metadata": {},
   "outputs": [],
   "source": [
    "pred_randf = model_7.predict(x_test)"
   ]
  },
  {
   "cell_type": "code",
   "execution_count": 121,
   "id": "6a9b4c0d",
   "metadata": {},
   "outputs": [
    {
     "data": {
      "text/plain": [
       "159.88314460306034"
      ]
     },
     "execution_count": 121,
     "metadata": {},
     "output_type": "execute_result"
    }
   ],
   "source": [
    "rmse_randf = RMSE(y_test, pred_randf)\n",
    "rmse_randf"
   ]
  },
  {
   "cell_type": "code",
   "execution_count": null,
   "id": "10f05def",
   "metadata": {},
   "outputs": [],
   "source": []
  },
  {
   "cell_type": "markdown",
   "id": "c56bcb5a",
   "metadata": {},
   "source": [
    "## AdaBoost Technique :- "
   ]
  },
  {
   "cell_type": "code",
   "execution_count": 122,
   "id": "4c750616",
   "metadata": {},
   "outputs": [],
   "source": [
    "from sklearn.ensemble import AdaBoostRegressor"
   ]
  },
  {
   "cell_type": "code",
   "execution_count": 124,
   "id": "cad4986b",
   "metadata": {},
   "outputs": [],
   "source": [
    "model = AdaBoostRegressor()"
   ]
  },
  {
   "cell_type": "code",
   "execution_count": 126,
   "id": "3679d839",
   "metadata": {},
   "outputs": [
    {
     "data": {
      "text/plain": [
       "{'n_estimators': array([ 3,  5,  7,  9, 11, 13, 15, 17, 19, 21, 23, 25, 27, 29, 31, 33, 35,\n",
       "        37, 39]),\n",
       " 'learning_rate': array([0.1, 0.5, 1. , 0.7])}"
      ]
     },
     "execution_count": 126,
     "metadata": {},
     "output_type": "execute_result"
    }
   ],
   "source": [
    "n_estimators = np.array(range(3,40,2))\n",
    "learning_rate = np.array([0.1,0.5,1,0.7])\n",
    "\n",
    "\n",
    "param_grid = dict(n_estimators = n_estimators, learning_rate =  learning_rate)\n",
    "param_grid"
   ]
  },
  {
   "cell_type": "code",
   "execution_count": 127,
   "id": "ebb6a087",
   "metadata": {},
   "outputs": [],
   "source": [
    "model_8 = GridSearchCV(estimator = model, param_grid = param_grid)"
   ]
  },
  {
   "cell_type": "code",
   "execution_count": 130,
   "id": "f7005535",
   "metadata": {},
   "outputs": [
    {
     "data": {
      "text/plain": [
       "GridSearchCV(estimator=AdaBoostRegressor(),\n",
       "             param_grid={'learning_rate': array([0.1, 0.5, 1. , 0.7]),\n",
       "                         'n_estimators': array([ 3,  5,  7,  9, 11, 13, 15, 17, 19, 21, 23, 25, 27, 29, 31, 33, 35,\n",
       "       37, 39])})"
      ]
     },
     "execution_count": 130,
     "metadata": {},
     "output_type": "execute_result"
    }
   ],
   "source": [
    "model_8.fit(x_train, y_train)"
   ]
  },
  {
   "cell_type": "code",
   "execution_count": 131,
   "id": "cd86504a",
   "metadata": {},
   "outputs": [
    {
     "name": "stdout",
     "output_type": "stream",
     "text": [
      "0.8481830628821578\n",
      "{'learning_rate': 0.1, 'n_estimators': 5}\n"
     ]
    }
   ],
   "source": [
    "print(model_8.best_score_)\n",
    "print(model_8.best_params_)"
   ]
  },
  {
   "cell_type": "code",
   "execution_count": 132,
   "id": "45ce79bd",
   "metadata": {},
   "outputs": [],
   "source": [
    "pred_adaboost = model_8.predict(x_test)"
   ]
  },
  {
   "cell_type": "code",
   "execution_count": 133,
   "id": "ee586992",
   "metadata": {},
   "outputs": [
    {
     "data": {
      "text/plain": [
       "295.4682607136101"
      ]
     },
     "execution_count": 133,
     "metadata": {},
     "output_type": "execute_result"
    }
   ],
   "source": [
    "rmse_adaboost = RMSE(y_test, pred_adaboost)\n",
    "rmse_adaboost"
   ]
  },
  {
   "cell_type": "code",
   "execution_count": null,
   "id": "0f4709ea",
   "metadata": {},
   "outputs": [],
   "source": []
  },
  {
   "cell_type": "markdown",
   "id": "8d28dff9",
   "metadata": {},
   "source": [
    "## Extreme Gradient Boosting :-"
   ]
  },
  {
   "cell_type": "code",
   "execution_count": 134,
   "id": "24c7363d",
   "metadata": {},
   "outputs": [],
   "source": [
    "from xgboost import XGBRegressor"
   ]
  },
  {
   "cell_type": "code",
   "execution_count": 135,
   "id": "622a9f06",
   "metadata": {},
   "outputs": [],
   "source": [
    "model = XGBRegressor()"
   ]
  },
  {
   "cell_type": "code",
   "execution_count": 142,
   "id": "cccad692",
   "metadata": {},
   "outputs": [
    {
     "data": {
      "text/plain": [
       "{'n_estimators': array([ 200,  300,  350,  400,  550, 1000,  800]),\n",
       " 'max_depth': array([3, 5, 7, 6]),\n",
       " 'learning_rate': array([0.1, 0.5, 1. , 0.7])}"
      ]
     },
     "execution_count": 142,
     "metadata": {},
     "output_type": "execute_result"
    }
   ],
   "source": [
    "n_estimators = np.array([200,300,350,400,550,1000, 800]) \n",
    "max_depth = np.array([ 3,5,7,6])\n",
    "learning_rate = np.array([0.1,0.5,1,0.7])\n",
    "\n",
    "param_grid = dict(n_estimators = n_estimators, max_depth = max_depth, learning_rate =  learning_rate)\n",
    "param_grid"
   ]
  },
  {
   "cell_type": "code",
   "execution_count": 143,
   "id": "beba5e0e",
   "metadata": {},
   "outputs": [],
   "source": [
    "model_9 = GridSearchCV(estimator=model, param_grid=param_grid)"
   ]
  },
  {
   "cell_type": "code",
   "execution_count": 144,
   "id": "aaf5eeb1",
   "metadata": {},
   "outputs": [
    {
     "data": {
      "text/plain": [
       "GridSearchCV(estimator=XGBRegressor(base_score=None, booster=None,\n",
       "                                    colsample_bylevel=None,\n",
       "                                    colsample_bynode=None,\n",
       "                                    colsample_bytree=None,\n",
       "                                    enable_categorical=False, gamma=None,\n",
       "                                    gpu_id=None, importance_type=None,\n",
       "                                    interaction_constraints=None,\n",
       "                                    learning_rate=None, max_delta_step=None,\n",
       "                                    max_depth=None, min_child_weight=None,\n",
       "                                    missing=nan, monotone_constraints=None,\n",
       "                                    n_estimators=100, n_jobs=None,\n",
       "                                    num_parallel_tree=None, predictor=None,\n",
       "                                    random_state=None, reg_alpha=None,\n",
       "                                    reg_lambda=None, scale_pos_weight=None,\n",
       "                                    subsample=None, tree_method=None,\n",
       "                                    validate_parameters=None, verbosity=None),\n",
       "             param_grid={'learning_rate': array([0.1, 0.5, 1. , 0.7]),\n",
       "                         'max_depth': array([3, 5, 7, 6]),\n",
       "                         'n_estimators': array([ 200,  300,  350,  400,  550, 1000,  800])})"
      ]
     },
     "execution_count": 144,
     "metadata": {},
     "output_type": "execute_result"
    }
   ],
   "source": [
    "model_9.fit(x_train, y_train)"
   ]
  },
  {
   "cell_type": "code",
   "execution_count": 145,
   "id": "16562526",
   "metadata": {},
   "outputs": [
    {
     "name": "stdout",
     "output_type": "stream",
     "text": [
      "0.8529841777412163\n",
      "{'learning_rate': 0.1, 'max_depth': 3, 'n_estimators': 200}\n"
     ]
    }
   ],
   "source": [
    "print(model_9.best_score_)\n",
    "print(model_9.best_params_)"
   ]
  },
  {
   "cell_type": "code",
   "execution_count": 146,
   "id": "c5f3122d",
   "metadata": {},
   "outputs": [],
   "source": [
    "pred_xgb = model_9.predict(x_test)"
   ]
  },
  {
   "cell_type": "code",
   "execution_count": 147,
   "id": "35962ab9",
   "metadata": {},
   "outputs": [
    {
     "data": {
      "text/plain": [
       "19.848014482217824"
      ]
     },
     "execution_count": 147,
     "metadata": {},
     "output_type": "execute_result"
    }
   ],
   "source": [
    "rmse_xgb = RMSE(y_test, pred_xgb)\n",
    "rmse_xgb"
   ]
  },
  {
   "cell_type": "code",
   "execution_count": null,
   "id": "0b573fdf",
   "metadata": {},
   "outputs": [],
   "source": []
  },
  {
   "cell_type": "markdown",
   "id": "3848d278",
   "metadata": {},
   "source": [
    "## Artificial neural network :-"
   ]
  },
  {
   "cell_type": "code",
   "execution_count": 195,
   "id": "eb4a9a6c",
   "metadata": {},
   "outputs": [],
   "source": [
    "import tensorflow as tf\n",
    "from tensorflow import keras\n",
    "from tensorflow.keras import layers\n",
    "from tensorflow.keras.models import Sequential, load_model\n",
    "from keras.layers import Dense\n",
    "from keras.wrappers.scikit_learn import KerasClassifier"
   ]
  },
  {
   "cell_type": "code",
   "execution_count": 210,
   "id": "a02e74ad",
   "metadata": {},
   "outputs": [],
   "source": [
    "model = Sequential()\n",
    "model.add(layers.Dense(8, input_dim=6 ))\n",
    "model.add(layers.Dense(5, activation='linear'))\n",
    "model.add(layers.Dense(1))\n"
   ]
  },
  {
   "cell_type": "code",
   "execution_count": 211,
   "id": "6ab8e17c",
   "metadata": {},
   "outputs": [],
   "source": [
    "#help(model.compile)"
   ]
  },
  {
   "cell_type": "code",
   "execution_count": 212,
   "id": "c509e779",
   "metadata": {},
   "outputs": [],
   "source": [
    "model.compile (loss='mean_squared_error', optimizer='adam', metrics=['accuracy'])"
   ]
  },
  {
   "cell_type": "code",
   "execution_count": 206,
   "id": "ae1f6575",
   "metadata": {},
   "outputs": [],
   "source": [
    "# model_new = KerasClassifier(model)"
   ]
  },
  {
   "cell_type": "code",
   "execution_count": 197,
   "id": "102e208b",
   "metadata": {},
   "outputs": [],
   "source": [
    "# model.fit(x_train, y_train,  epochs=250, batch_size=10)"
   ]
  },
  {
   "cell_type": "code",
   "execution_count": 207,
   "id": "996c4af3",
   "metadata": {},
   "outputs": [],
   "source": [
    "#batch_size = np.array([10,20,25])\n",
    "#epochs = np.array([100, 250, 400])\n",
    "\n",
    "#param_grid = dict(batch_size = batch_size ,epochs = epochs )\n",
    "#param_grid\n"
   ]
  },
  {
   "cell_type": "code",
   "execution_count": 208,
   "id": "fb091a1f",
   "metadata": {},
   "outputs": [],
   "source": [
    "# model_10 = GridSearchCV(estimator = model_new, param_grid=param_grid)"
   ]
  },
  {
   "cell_type": "code",
   "execution_count": 200,
   "id": "6b8f292f",
   "metadata": {},
   "outputs": [],
   "source": [
    "#from sklearn.preprocessing import StandardScaler"
   ]
  },
  {
   "cell_type": "code",
   "execution_count": 201,
   "id": "2dcc876f",
   "metadata": {},
   "outputs": [],
   "source": [
    "#a = StandardScaler()\n",
    "#a.fit(x_train)\n",
    "#x_train_std = a.transform(x_train)"
   ]
  },
  {
   "cell_type": "code",
   "execution_count": 215,
   "id": "db704248",
   "metadata": {},
   "outputs": [
    {
     "name": "stdout",
     "output_type": "stream",
     "text": [
      "Epoch 1/250\n",
      "101/101 [==============================] - 0s 2ms/step - loss: 43428664.0000 - accuracy: 0.0000e+00\n",
      "Epoch 2/250\n",
      "101/101 [==============================] - 0s 2ms/step - loss: 43022736.0000 - accuracy: 0.0000e+00\n",
      "Epoch 3/250\n",
      "101/101 [==============================] - 0s 2ms/step - loss: 42737552.0000 - accuracy: 0.0000e+00\n",
      "Epoch 4/250\n",
      "101/101 [==============================] - 0s 2ms/step - loss: 42384288.0000 - accuracy: 0.0000e+00\n",
      "Epoch 5/250\n",
      "101/101 [==============================] - 0s 2ms/step - loss: 42160184.0000 - accuracy: 0.0000e+00\n",
      "Epoch 6/250\n",
      "101/101 [==============================] - 0s 2ms/step - loss: 41911072.0000 - accuracy: 0.0000e+00\n",
      "Epoch 7/250\n",
      "101/101 [==============================] - 0s 2ms/step - loss: 41604724.0000 - accuracy: 0.0000e+00\n",
      "Epoch 8/250\n",
      "101/101 [==============================] - 0s 2ms/step - loss: 41397868.0000 - accuracy: 0.0000e+00\n",
      "Epoch 9/250\n",
      "101/101 [==============================] - 0s 1ms/step - loss: 41165688.0000 - accuracy: 0.0000e+00\n",
      "Epoch 10/250\n",
      "101/101 [==============================] - 0s 2ms/step - loss: 40909904.0000 - accuracy: 0.0000e+00\n",
      "Epoch 11/250\n",
      "101/101 [==============================] - 0s 2ms/step - loss: 40841232.0000 - accuracy: 0.0000e+00\n",
      "Epoch 12/250\n",
      "101/101 [==============================] - 0s 2ms/step - loss: 40690732.0000 - accuracy: 0.0000e+00\n",
      "Epoch 13/250\n",
      "101/101 [==============================] - 0s 1ms/step - loss: 40495752.0000 - accuracy: 0.0000e+00\n",
      "Epoch 14/250\n",
      "101/101 [==============================] - 0s 2ms/step - loss: 40359756.0000 - accuracy: 0.0000e+00\n",
      "Epoch 15/250\n",
      "101/101 [==============================] - 0s 1ms/step - loss: 40297168.0000 - accuracy: 0.0000e+00\n",
      "Epoch 16/250\n",
      "101/101 [==============================] - 0s 2ms/step - loss: 40217884.0000 - accuracy: 0.0000e+00\n",
      "Epoch 17/250\n",
      "101/101 [==============================] - 0s 2ms/step - loss: 40013040.0000 - accuracy: 0.0000e+00\n",
      "Epoch 18/250\n",
      "101/101 [==============================] - 0s 2ms/step - loss: 39996840.0000 - accuracy: 0.0000e+00\n",
      "Epoch 19/250\n",
      "101/101 [==============================] - 0s 2ms/step - loss: 39860684.0000 - accuracy: 0.0000e+00\n",
      "Epoch 20/250\n",
      "101/101 [==============================] - 0s 2ms/step - loss: 39759920.0000 - accuracy: 0.0000e+00\n",
      "Epoch 21/250\n",
      "101/101 [==============================] - 0s 2ms/step - loss: 39855972.0000 - accuracy: 0.0000e+00\n",
      "Epoch 22/250\n",
      "101/101 [==============================] - 0s 2ms/step - loss: 39707108.0000 - accuracy: 0.0000e+00\n",
      "Epoch 23/250\n",
      "101/101 [==============================] - 0s 2ms/step - loss: 39556760.0000 - accuracy: 0.0000e+00\n",
      "Epoch 24/250\n",
      "101/101 [==============================] - 0s 2ms/step - loss: 39587168.0000 - accuracy: 0.0000e+00\n",
      "Epoch 25/250\n",
      "101/101 [==============================] - 0s 2ms/step - loss: 39490824.0000 - accuracy: 0.0000e+00\n",
      "Epoch 26/250\n",
      "101/101 [==============================] - 0s 2ms/step - loss: 39488644.0000 - accuracy: 0.0000e+00\n",
      "Epoch 27/250\n",
      "101/101 [==============================] - 0s 2ms/step - loss: 39379360.0000 - accuracy: 0.0000e+00\n",
      "Epoch 28/250\n",
      "101/101 [==============================] - 0s 2ms/step - loss: 39335108.0000 - accuracy: 0.0000e+00\n",
      "Epoch 29/250\n",
      "101/101 [==============================] - 0s 2ms/step - loss: 39402500.0000 - accuracy: 0.0000e+00\n",
      "Epoch 30/250\n",
      "101/101 [==============================] - 0s 2ms/step - loss: 39356956.0000 - accuracy: 0.0000e+00\n",
      "Epoch 31/250\n",
      "101/101 [==============================] - 0s 1ms/step - loss: 39335524.0000 - accuracy: 0.0000e+00\n",
      "Epoch 32/250\n",
      "101/101 [==============================] - 0s 2ms/step - loss: 39230096.0000 - accuracy: 0.0000e+00\n",
      "Epoch 33/250\n",
      "101/101 [==============================] - 0s 2ms/step - loss: 39224008.0000 - accuracy: 0.0000e+00\n",
      "Epoch 34/250\n",
      "101/101 [==============================] - 0s 2ms/step - loss: 39158872.0000 - accuracy: 0.0000e+00\n",
      "Epoch 35/250\n",
      "101/101 [==============================] - 0s 2ms/step - loss: 39158652.0000 - accuracy: 0.0000e+00\n",
      "Epoch 36/250\n",
      "101/101 [==============================] - 0s 2ms/step - loss: 39123336.0000 - accuracy: 0.0000e+00\n",
      "Epoch 37/250\n",
      "101/101 [==============================] - 0s 1ms/step - loss: 39151016.0000 - accuracy: 0.0000e+00\n",
      "Epoch 38/250\n",
      "101/101 [==============================] - 0s 1ms/step - loss: 39137336.0000 - accuracy: 0.0000e+00\n",
      "Epoch 39/250\n",
      "101/101 [==============================] - 0s 2ms/step - loss: 39050108.0000 - accuracy: 0.0000e+00\n",
      "Epoch 40/250\n",
      "101/101 [==============================] - 0s 2ms/step - loss: 39102992.0000 - accuracy: 0.0000e+00\n",
      "Epoch 41/250\n",
      "101/101 [==============================] - 0s 2ms/step - loss: 39005124.0000 - accuracy: 0.0000e+00\n",
      "Epoch 42/250\n",
      "101/101 [==============================] - 0s 2ms/step - loss: 39004324.0000 - accuracy: 0.0000e+00\n",
      "Epoch 43/250\n",
      "101/101 [==============================] - 0s 2ms/step - loss: 39127196.0000 - accuracy: 0.0000e+00\n",
      "Epoch 44/250\n",
      "101/101 [==============================] - 0s 2ms/step - loss: 39074232.0000 - accuracy: 0.0000e+00\n",
      "Epoch 45/250\n",
      "101/101 [==============================] - 0s 2ms/step - loss: 38954616.0000 - accuracy: 0.0000e+00\n",
      "Epoch 46/250\n",
      "101/101 [==============================] - 0s 2ms/step - loss: 38961396.0000 - accuracy: 0.0000e+00\n",
      "Epoch 47/250\n",
      "101/101 [==============================] - 0s 1ms/step - loss: 38991464.0000 - accuracy: 0.0000e+00\n",
      "Epoch 48/250\n",
      "101/101 [==============================] - 0s 1ms/step - loss: 38927432.0000 - accuracy: 0.0000e+00\n",
      "Epoch 49/250\n",
      "101/101 [==============================] - 0s 2ms/step - loss: 38901972.0000 - accuracy: 0.0000e+00\n",
      "Epoch 50/250\n",
      "101/101 [==============================] - 0s 2ms/step - loss: 38968244.0000 - accuracy: 0.0000e+00\n",
      "Epoch 51/250\n",
      "101/101 [==============================] - 0s 2ms/step - loss: 38852480.0000 - accuracy: 0.0000e+00\n",
      "Epoch 52/250\n",
      "101/101 [==============================] - 0s 2ms/step - loss: 38902024.0000 - accuracy: 0.0000e+00\n",
      "Epoch 53/250\n",
      "101/101 [==============================] - 0s 2ms/step - loss: 38874416.0000 - accuracy: 0.0000e+00\n",
      "Epoch 54/250\n",
      "101/101 [==============================] - 0s 2ms/step - loss: 38836776.0000 - accuracy: 0.0000e+00\n",
      "Epoch 55/250\n",
      "101/101 [==============================] - 0s 2ms/step - loss: 38846548.0000 - accuracy: 0.0000e+00\n",
      "Epoch 56/250\n",
      "101/101 [==============================] - 0s 2ms/step - loss: 38896880.0000 - accuracy: 0.0000e+00\n",
      "Epoch 57/250\n",
      "101/101 [==============================] - 0s 2ms/step - loss: 38813288.0000 - accuracy: 0.0000e+00\n",
      "Epoch 58/250\n",
      "101/101 [==============================] - 0s 2ms/step - loss: 38826776.0000 - accuracy: 0.0000e+00\n",
      "Epoch 59/250\n",
      "101/101 [==============================] - 0s 2ms/step - loss: 38887616.0000 - accuracy: 0.0000e+00\n",
      "Epoch 60/250\n",
      "101/101 [==============================] - 0s 2ms/step - loss: 38807584.0000 - accuracy: 0.0000e+00\n",
      "Epoch 61/250\n",
      "101/101 [==============================] - 0s 2ms/step - loss: 38799796.0000 - accuracy: 0.0000e+00\n",
      "Epoch 62/250\n",
      "101/101 [==============================] - 0s 2ms/step - loss: 38811920.0000 - accuracy: 0.0000e+00\n",
      "Epoch 63/250\n",
      "101/101 [==============================] - 0s 2ms/step - loss: 38802452.0000 - accuracy: 0.0000e+00\n",
      "Epoch 64/250\n",
      "101/101 [==============================] - 0s 2ms/step - loss: 38818276.0000 - accuracy: 0.0000e+00\n",
      "Epoch 65/250\n",
      "101/101 [==============================] - 0s 2ms/step - loss: 38795364.0000 - accuracy: 0.0000e+00\n",
      "Epoch 66/250\n",
      "101/101 [==============================] - 0s 2ms/step - loss: 38772596.0000 - accuracy: 0.0000e+00\n",
      "Epoch 67/250\n",
      "101/101 [==============================] - 0s 2ms/step - loss: 38719200.0000 - accuracy: 0.0000e+00\n",
      "Epoch 68/250\n",
      "101/101 [==============================] - 0s 2ms/step - loss: 38745552.0000 - accuracy: 0.0000e+00\n",
      "Epoch 69/250\n",
      "101/101 [==============================] - 0s 2ms/step - loss: 38734260.0000 - accuracy: 0.0000e+00\n",
      "Epoch 70/250\n",
      "101/101 [==============================] - 0s 1ms/step - loss: 38836108.0000 - accuracy: 0.0000e+00\n",
      "Epoch 71/250\n",
      "101/101 [==============================] - 0s 1ms/step - loss: 38755484.0000 - accuracy: 0.0000e+00\n",
      "Epoch 72/250\n",
      "101/101 [==============================] - 0s 1ms/step - loss: 38795672.0000 - accuracy: 0.0000e+00\n",
      "Epoch 73/250\n"
     ]
    },
    {
     "name": "stdout",
     "output_type": "stream",
     "text": [
      "101/101 [==============================] - 0s 1ms/step - loss: 38707592.0000 - accuracy: 0.0000e+00\n",
      "Epoch 74/250\n",
      "101/101 [==============================] - 0s 1ms/step - loss: 38671384.0000 - accuracy: 0.0000e+00\n",
      "Epoch 75/250\n",
      "101/101 [==============================] - 0s 1ms/step - loss: 38607780.0000 - accuracy: 0.0000e+00\n",
      "Epoch 76/250\n",
      "101/101 [==============================] - 0s 1ms/step - loss: 38697380.0000 - accuracy: 0.0000e+00\n",
      "Epoch 77/250\n",
      "101/101 [==============================] - 0s 1ms/step - loss: 38753976.0000 - accuracy: 0.0000e+00\n",
      "Epoch 78/250\n",
      "101/101 [==============================] - 0s 2ms/step - loss: 38621784.0000 - accuracy: 0.0000e+00\n",
      "Epoch 79/250\n",
      "101/101 [==============================] - 0s 2ms/step - loss: 38594252.0000 - accuracy: 0.0000e+00\n",
      "Epoch 80/250\n",
      "101/101 [==============================] - 0s 2ms/step - loss: 38834648.0000 - accuracy: 0.0000e+00\n",
      "Epoch 81/250\n",
      "101/101 [==============================] - 0s 1ms/step - loss: 38620440.0000 - accuracy: 0.0000e+00\n",
      "Epoch 82/250\n",
      "101/101 [==============================] - 0s 1ms/step - loss: 38699140.0000 - accuracy: 0.0000e+00\n",
      "Epoch 83/250\n",
      "101/101 [==============================] - 0s 969us/step - loss: 38650808.0000 - accuracy: 0.0000e+00\n",
      "Epoch 84/250\n",
      "101/101 [==============================] - 0s 1ms/step - loss: 38658748.0000 - accuracy: 0.0000e+00\n",
      "Epoch 85/250\n",
      "101/101 [==============================] - 0s 1ms/step - loss: 38613976.0000 - accuracy: 0.0000e+00\n",
      "Epoch 86/250\n",
      "101/101 [==============================] - 0s 1ms/step - loss: 38555628.0000 - accuracy: 0.0000e+00\n",
      "Epoch 87/250\n",
      "101/101 [==============================] - 0s 1ms/step - loss: 38556620.0000 - accuracy: 0.0000e+00\n",
      "Epoch 88/250\n",
      "101/101 [==============================] - 0s 1ms/step - loss: 38562056.0000 - accuracy: 0.0000e+00\n",
      "Epoch 89/250\n",
      "101/101 [==============================] - 0s 1ms/step - loss: 38718900.0000 - accuracy: 0.0000e+00\n",
      "Epoch 90/250\n",
      "101/101 [==============================] - 0s 1ms/step - loss: 38542404.0000 - accuracy: 0.0000e+00\n",
      "Epoch 91/250\n",
      "101/101 [==============================] - 0s 1ms/step - loss: 38556576.0000 - accuracy: 0.0000e+00\n",
      "Epoch 92/250\n",
      "101/101 [==============================] - 0s 1ms/step - loss: 38543752.0000 - accuracy: 0.0000e+00\n",
      "Epoch 93/250\n",
      "101/101 [==============================] - 0s 1ms/step - loss: 38534652.0000 - accuracy: 0.0000e+00\n",
      "Epoch 94/250\n",
      "101/101 [==============================] - 0s 1ms/step - loss: 38546656.0000 - accuracy: 0.0000e+00\n",
      "Epoch 95/250\n",
      "101/101 [==============================] - 0s 1ms/step - loss: 38662252.0000 - accuracy: 0.0000e+00\n",
      "Epoch 96/250\n",
      "101/101 [==============================] - 0s 1ms/step - loss: 38491744.0000 - accuracy: 0.0000e+00\n",
      "Epoch 97/250\n",
      "101/101 [==============================] - 0s 1ms/step - loss: 38608348.0000 - accuracy: 0.0000e+00\n",
      "Epoch 98/250\n",
      "101/101 [==============================] - 0s 1ms/step - loss: 38475084.0000 - accuracy: 0.0000e+00\n",
      "Epoch 99/250\n",
      "101/101 [==============================] - 0s 1ms/step - loss: 38471032.0000 - accuracy: 0.0000e+00\n",
      "Epoch 100/250\n",
      "101/101 [==============================] - 0s 1ms/step - loss: 38443784.0000 - accuracy: 0.0000e+00\n",
      "Epoch 101/250\n",
      "101/101 [==============================] - 0s 1ms/step - loss: 38434604.0000 - accuracy: 0.0000e+00\n",
      "Epoch 102/250\n",
      "101/101 [==============================] - 0s 1ms/step - loss: 38411612.0000 - accuracy: 0.0000e+00\n",
      "Epoch 103/250\n",
      "101/101 [==============================] - 0s 1ms/step - loss: 38461820.0000 - accuracy: 0.0000e+00\n",
      "Epoch 104/250\n",
      "101/101 [==============================] - 0s 1ms/step - loss: 38544004.0000 - accuracy: 0.0000e+00\n",
      "Epoch 105/250\n",
      "101/101 [==============================] - 0s 1ms/step - loss: 38399684.0000 - accuracy: 0.0000e+00\n",
      "Epoch 106/250\n",
      "101/101 [==============================] - 0s 1ms/step - loss: 38404412.0000 - accuracy: 0.0000e+00\n",
      "Epoch 107/250\n",
      "101/101 [==============================] - 0s 1ms/step - loss: 38480472.0000 - accuracy: 0.0000e+00\n",
      "Epoch 108/250\n",
      "101/101 [==============================] - 0s 1ms/step - loss: 38395664.0000 - accuracy: 0.0000e+00\n",
      "Epoch 109/250\n",
      "101/101 [==============================] - 0s 1ms/step - loss: 38366864.0000 - accuracy: 0.0000e+00\n",
      "Epoch 110/250\n",
      "101/101 [==============================] - 0s 1ms/step - loss: 38357488.0000 - accuracy: 0.0000e+00\n",
      "Epoch 111/250\n",
      "101/101 [==============================] - 0s 1ms/step - loss: 38394664.0000 - accuracy: 0.0000e+00\n",
      "Epoch 112/250\n",
      "101/101 [==============================] - 0s 1ms/step - loss: 38392436.0000 - accuracy: 0.0000e+00\n",
      "Epoch 113/250\n",
      "101/101 [==============================] - 0s 1ms/step - loss: 38342836.0000 - accuracy: 0.0000e+00\n",
      "Epoch 114/250\n",
      "101/101 [==============================] - 0s 1ms/step - loss: 38370200.0000 - accuracy: 0.0000e+00\n",
      "Epoch 115/250\n",
      "101/101 [==============================] - 0s 1ms/step - loss: 38453680.0000 - accuracy: 0.0000e+00\n",
      "Epoch 116/250\n",
      "101/101 [==============================] - 0s 1ms/step - loss: 38526076.0000 - accuracy: 0.0000e+00\n",
      "Epoch 117/250\n",
      "101/101 [==============================] - 0s 1ms/step - loss: 38330480.0000 - accuracy: 0.0000e+00\n",
      "Epoch 118/250\n",
      "101/101 [==============================] - 0s 1ms/step - loss: 38446344.0000 - accuracy: 0.0000e+00\n",
      "Epoch 119/250\n",
      "101/101 [==============================] - 0s 1ms/step - loss: 38285904.0000 - accuracy: 0.0000e+00\n",
      "Epoch 120/250\n",
      "101/101 [==============================] - 0s 2ms/step - loss: 38290216.0000 - accuracy: 0.0000e+00\n",
      "Epoch 121/250\n",
      "101/101 [==============================] - 0s 2ms/step - loss: 38264664.0000 - accuracy: 0.0000e+00\n",
      "Epoch 122/250\n",
      "101/101 [==============================] - 0s 1ms/step - loss: 38439576.0000 - accuracy: 0.0000e+00\n",
      "Epoch 123/250\n",
      "101/101 [==============================] - 0s 1ms/step - loss: 38216216.0000 - accuracy: 0.0000e+00\n",
      "Epoch 124/250\n",
      "101/101 [==============================] - 0s 1ms/step - loss: 38316340.0000 - accuracy: 0.0000e+00\n",
      "Epoch 125/250\n",
      "101/101 [==============================] - 0s 1ms/step - loss: 38167468.0000 - accuracy: 0.0000e+00\n",
      "Epoch 126/250\n",
      "101/101 [==============================] - 0s 1ms/step - loss: 38376504.0000 - accuracy: 0.0000e+00\n",
      "Epoch 127/250\n",
      "101/101 [==============================] - 0s 944us/step - loss: 38228508.0000 - accuracy: 0.0000e+00\n",
      "Epoch 128/250\n",
      "101/101 [==============================] - 0s 1ms/step - loss: 38226380.0000 - accuracy: 0.0000e+00\n",
      "Epoch 129/250\n",
      "101/101 [==============================] - 0s 1ms/step - loss: 38240520.0000 - accuracy: 0.0000e+00\n",
      "Epoch 130/250\n",
      "101/101 [==============================] - 0s 1ms/step - loss: 38295900.0000 - accuracy: 0.0000e+00\n",
      "Epoch 131/250\n",
      "101/101 [==============================] - 0s 1ms/step - loss: 38268260.0000 - accuracy: 0.0000e+00\n",
      "Epoch 132/250\n",
      "101/101 [==============================] - 0s 1ms/step - loss: 38210116.0000 - accuracy: 0.0000e+00\n",
      "Epoch 133/250\n",
      "101/101 [==============================] - 0s 1ms/step - loss: 38199440.0000 - accuracy: 0.0000e+00\n",
      "Epoch 134/250\n",
      "101/101 [==============================] - 0s 1ms/step - loss: 38276504.0000 - accuracy: 0.0000e+00\n",
      "Epoch 135/250\n",
      "101/101 [==============================] - 0s 1ms/step - loss: 38229284.0000 - accuracy: 0.0000e+00\n",
      "Epoch 136/250\n",
      "101/101 [==============================] - 0s 1ms/step - loss: 38208268.0000 - accuracy: 0.0000e+00\n",
      "Epoch 137/250\n",
      "101/101 [==============================] - 0s 1ms/step - loss: 38209480.0000 - accuracy: 0.0000e+00\n",
      "Epoch 138/250\n",
      "101/101 [==============================] - 0s 1ms/step - loss: 38223984.0000 - accuracy: 0.0000e+00\n",
      "Epoch 139/250\n",
      "101/101 [==============================] - 0s 1ms/step - loss: 38208476.0000 - accuracy: 0.0000e+00\n",
      "Epoch 140/250\n",
      "101/101 [==============================] - 0s 1ms/step - loss: 38237044.0000 - accuracy: 0.0000e+00\n",
      "Epoch 141/250\n",
      "101/101 [==============================] - 0s 1ms/step - loss: 38189284.0000 - accuracy: 0.0000e+00\n",
      "Epoch 142/250\n",
      "101/101 [==============================] - 0s 997us/step - loss: 38183728.0000 - accuracy: 0.0000e+00\n",
      "Epoch 143/250\n",
      "101/101 [==============================] - 0s 1ms/step - loss: 38108092.0000 - accuracy: 0.0000e+00\n",
      "Epoch 144/250\n",
      "101/101 [==============================] - 0s 1ms/step - loss: 38158640.0000 - accuracy: 0.0000e+00\n",
      "Epoch 145/250\n"
     ]
    },
    {
     "name": "stdout",
     "output_type": "stream",
     "text": [
      "101/101 [==============================] - 0s 1ms/step - loss: 38119424.0000 - accuracy: 0.0000e+00\n",
      "Epoch 146/250\n",
      "101/101 [==============================] - 0s 1ms/step - loss: 38129732.0000 - accuracy: 0.0000e+00\n",
      "Epoch 147/250\n",
      "101/101 [==============================] - 0s 1ms/step - loss: 38212816.0000 - accuracy: 0.0000e+00\n",
      "Epoch 148/250\n",
      "101/101 [==============================] - 0s 1ms/step - loss: 38160700.0000 - accuracy: 0.0000e+00\n",
      "Epoch 149/250\n",
      "101/101 [==============================] - 0s 920us/step - loss: 38126196.0000 - accuracy: 0.0000e+00\n",
      "Epoch 150/250\n",
      "101/101 [==============================] - 0s 1ms/step - loss: 38111120.0000 - accuracy: 0.0000e+00\n",
      "Epoch 151/250\n",
      "101/101 [==============================] - 0s 1ms/step - loss: 38146720.0000 - accuracy: 0.0000e+00\n",
      "Epoch 152/250\n",
      "101/101 [==============================] - 0s 1ms/step - loss: 38090896.0000 - accuracy: 0.0000e+00\n",
      "Epoch 153/250\n",
      "101/101 [==============================] - 0s 1ms/step - loss: 38107428.0000 - accuracy: 0.0000e+00\n",
      "Epoch 154/250\n",
      "101/101 [==============================] - 0s 1ms/step - loss: 37996028.0000 - accuracy: 0.0000e+00\n",
      "Epoch 155/250\n",
      "101/101 [==============================] - 0s 1ms/step - loss: 38034084.0000 - accuracy: 0.0000e+00\n",
      "Epoch 156/250\n",
      "101/101 [==============================] - 0s 1ms/step - loss: 38064084.0000 - accuracy: 0.0000e+00\n",
      "Epoch 157/250\n",
      "101/101 [==============================] - 0s 1ms/step - loss: 38018088.0000 - accuracy: 0.0000e+00\n",
      "Epoch 158/250\n",
      "101/101 [==============================] - 0s 1000us/step - loss: 38065652.0000 - accuracy: 0.0000e+00\n",
      "Epoch 159/250\n",
      "101/101 [==============================] - 0s 1ms/step - loss: 38027140.0000 - accuracy: 0.0000e+00\n",
      "Epoch 160/250\n",
      "101/101 [==============================] - 0s 1ms/step - loss: 38044008.0000 - accuracy: 0.0000e+00\n",
      "Epoch 161/250\n",
      "101/101 [==============================] - 0s 1ms/step - loss: 38090612.0000 - accuracy: 0.0000e+00\n",
      "Epoch 162/250\n",
      "101/101 [==============================] - 0s 1ms/step - loss: 38038756.0000 - accuracy: 0.0000e+00\n",
      "Epoch 163/250\n",
      "101/101 [==============================] - 0s 1ms/step - loss: 37989384.0000 - accuracy: 0.0000e+00\n",
      "Epoch 164/250\n",
      "101/101 [==============================] - 0s 1ms/step - loss: 38012960.0000 - accuracy: 0.0000e+00\n",
      "Epoch 165/250\n",
      "101/101 [==============================] - 0s 1ms/step - loss: 38031672.0000 - accuracy: 0.0000e+00\n",
      "Epoch 166/250\n",
      "101/101 [==============================] - 0s 1ms/step - loss: 38022552.0000 - accuracy: 0.0000e+00\n",
      "Epoch 167/250\n",
      "101/101 [==============================] - 0s 1ms/step - loss: 38080128.0000 - accuracy: 0.0000e+00\n",
      "Epoch 168/250\n",
      "101/101 [==============================] - 0s 2ms/step - loss: 37947572.0000 - accuracy: 0.0000e+00\n",
      "Epoch 169/250\n",
      "101/101 [==============================] - 0s 2ms/step - loss: 37988648.0000 - accuracy: 0.0000e+00\n",
      "Epoch 170/250\n",
      "101/101 [==============================] - 0s 2ms/step - loss: 37931136.0000 - accuracy: 0.0000e+00\n",
      "Epoch 171/250\n",
      "101/101 [==============================] - 0s 2ms/step - loss: 37979720.0000 - accuracy: 0.0000e+00\n",
      "Epoch 172/250\n",
      "101/101 [==============================] - 0s 2ms/step - loss: 37942816.0000 - accuracy: 0.0000e+00\n",
      "Epoch 173/250\n",
      "101/101 [==============================] - 0s 1ms/step - loss: 38187052.0000 - accuracy: 0.0000e+00\n",
      "Epoch 174/250\n",
      "101/101 [==============================] - 0s 2ms/step - loss: 37935096.0000 - accuracy: 0.0000e+00\n",
      "Epoch 175/250\n",
      "101/101 [==============================] - 0s 2ms/step - loss: 37931864.0000 - accuracy: 0.0000e+00\n",
      "Epoch 176/250\n",
      "101/101 [==============================] - 0s 2ms/step - loss: 37970288.0000 - accuracy: 0.0000e+00\n",
      "Epoch 177/250\n",
      "101/101 [==============================] - 0s 2ms/step - loss: 37995412.0000 - accuracy: 0.0000e+00\n",
      "Epoch 178/250\n",
      "101/101 [==============================] - 0s 2ms/step - loss: 37972776.0000 - accuracy: 0.0000e+00\n",
      "Epoch 179/250\n",
      "101/101 [==============================] - 0s 1ms/step - loss: 38047456.0000 - accuracy: 0.0000e+00\n",
      "Epoch 180/250\n",
      "101/101 [==============================] - 0s 1ms/step - loss: 38006996.0000 - accuracy: 0.0000e+00\n",
      "Epoch 181/250\n",
      "101/101 [==============================] - 0s 1ms/step - loss: 37988312.0000 - accuracy: 0.0000e+00\n",
      "Epoch 182/250\n",
      "101/101 [==============================] - 0s 2ms/step - loss: 37930512.0000 - accuracy: 0.0000e+00\n",
      "Epoch 183/250\n",
      "101/101 [==============================] - 0s 2ms/step - loss: 37912260.0000 - accuracy: 0.0000e+00\n",
      "Epoch 184/250\n",
      "101/101 [==============================] - 0s 2ms/step - loss: 37957364.0000 - accuracy: 0.0000e+00\n",
      "Epoch 185/250\n",
      "101/101 [==============================] - 0s 2ms/step - loss: 37884300.0000 - accuracy: 0.0000e+00\n",
      "Epoch 186/250\n",
      "101/101 [==============================] - 0s 1ms/step - loss: 37892288.0000 - accuracy: 0.0000e+00\n",
      "Epoch 187/250\n",
      "101/101 [==============================] - 0s 1ms/step - loss: 37938988.0000 - accuracy: 0.0000e+00\n",
      "Epoch 188/250\n",
      "101/101 [==============================] - 0s 1ms/step - loss: 37889312.0000 - accuracy: 0.0000e+00\n",
      "Epoch 189/250\n",
      "101/101 [==============================] - 0s 1ms/step - loss: 37871860.0000 - accuracy: 0.0000e+00\n",
      "Epoch 190/250\n",
      "101/101 [==============================] - 0s 1ms/step - loss: 37975104.0000 - accuracy: 0.0000e+00\n",
      "Epoch 191/250\n",
      "101/101 [==============================] - 0s 2ms/step - loss: 37848184.0000 - accuracy: 0.0000e+00\n",
      "Epoch 192/250\n",
      "101/101 [==============================] - 0s 2ms/step - loss: 37819352.0000 - accuracy: 0.0000e+00\n",
      "Epoch 193/250\n",
      "101/101 [==============================] - 0s 1ms/step - loss: 37921524.0000 - accuracy: 0.0000e+00\n",
      "Epoch 194/250\n",
      "101/101 [==============================] - 0s 1ms/step - loss: 37869060.0000 - accuracy: 0.0000e+00\n",
      "Epoch 195/250\n",
      "101/101 [==============================] - 0s 2ms/step - loss: 37885640.0000 - accuracy: 0.0000e+00\n",
      "Epoch 196/250\n",
      "101/101 [==============================] - 0s 1ms/step - loss: 37861512.0000 - accuracy: 0.0000e+00\n",
      "Epoch 197/250\n",
      "101/101 [==============================] - 0s 2ms/step - loss: 37869040.0000 - accuracy: 0.0000e+00\n",
      "Epoch 198/250\n",
      "101/101 [==============================] - 0s 1ms/step - loss: 37850852.0000 - accuracy: 0.0000e+00\n",
      "Epoch 199/250\n",
      "101/101 [==============================] - 0s 2ms/step - loss: 37786152.0000 - accuracy: 0.0000e+00\n",
      "Epoch 200/250\n",
      "101/101 [==============================] - 0s 1ms/step - loss: 37870804.0000 - accuracy: 0.0000e+00\n",
      "Epoch 201/250\n",
      "101/101 [==============================] - 0s 1ms/step - loss: 37870280.0000 - accuracy: 0.0000e+00\n",
      "Epoch 202/250\n",
      "101/101 [==============================] - 0s 2ms/step - loss: 37866096.0000 - accuracy: 0.0000e+00\n",
      "Epoch 203/250\n",
      "101/101 [==============================] - 0s 2ms/step - loss: 37840408.0000 - accuracy: 0.0000e+00\n",
      "Epoch 204/250\n",
      "101/101 [==============================] - 0s 2ms/step - loss: 37753996.0000 - accuracy: 0.0000e+00\n",
      "Epoch 205/250\n",
      "101/101 [==============================] - 0s 2ms/step - loss: 37821796.0000 - accuracy: 0.0000e+00\n",
      "Epoch 206/250\n",
      "101/101 [==============================] - 0s 1ms/step - loss: 37889440.0000 - accuracy: 0.0000e+00\n",
      "Epoch 207/250\n",
      "101/101 [==============================] - 0s 1ms/step - loss: 37817932.0000 - accuracy: 0.0000e+00\n",
      "Epoch 208/250\n",
      "101/101 [==============================] - 0s 1ms/step - loss: 37826160.0000 - accuracy: 0.0000e+00\n",
      "Epoch 209/250\n",
      "101/101 [==============================] - 0s 1ms/step - loss: 37779768.0000 - accuracy: 0.0000e+00\n",
      "Epoch 210/250\n",
      "101/101 [==============================] - 0s 1ms/step - loss: 37811140.0000 - accuracy: 0.0000e+00\n",
      "Epoch 211/250\n",
      "101/101 [==============================] - 0s 1ms/step - loss: 37742860.0000 - accuracy: 0.0000e+00\n",
      "Epoch 212/250\n",
      "101/101 [==============================] - 0s 1ms/step - loss: 37741796.0000 - accuracy: 0.0000e+00\n",
      "Epoch 213/250\n",
      "101/101 [==============================] - 0s 1ms/step - loss: 37699912.0000 - accuracy: 0.0000e+00\n",
      "Epoch 214/250\n",
      "101/101 [==============================] - 0s 1ms/step - loss: 37784224.0000 - accuracy: 0.0000e+00\n",
      "Epoch 215/250\n",
      "101/101 [==============================] - 0s 1ms/step - loss: 37714752.0000 - accuracy: 0.0000e+00\n",
      "Epoch 216/250\n"
     ]
    },
    {
     "name": "stdout",
     "output_type": "stream",
     "text": [
      "101/101 [==============================] - 0s 959us/step - loss: 37814132.0000 - accuracy: 0.0000e+00\n",
      "Epoch 217/250\n",
      "101/101 [==============================] - 0s 900us/step - loss: 37785540.0000 - accuracy: 0.0000e+00\n",
      "Epoch 218/250\n",
      "101/101 [==============================] - 0s 1ms/step - loss: 37663012.0000 - accuracy: 0.0000e+00\n",
      "Epoch 219/250\n",
      "101/101 [==============================] - 0s 1ms/step - loss: 37785420.0000 - accuracy: 0.0000e+00\n",
      "Epoch 220/250\n",
      "101/101 [==============================] - 0s 1ms/step - loss: 37748820.0000 - accuracy: 0.0000e+00\n",
      "Epoch 221/250\n",
      "101/101 [==============================] - 0s 1ms/step - loss: 37830780.0000 - accuracy: 0.0000e+00\n",
      "Epoch 222/250\n",
      "101/101 [==============================] - 0s 1ms/step - loss: 37736888.0000 - accuracy: 0.0000e+00\n",
      "Epoch 223/250\n",
      "101/101 [==============================] - 0s 2ms/step - loss: 37731812.0000 - accuracy: 0.0000e+00\n",
      "Epoch 224/250\n",
      "101/101 [==============================] - 0s 1ms/step - loss: 37819280.0000 - accuracy: 0.0000e+00\n",
      "Epoch 225/250\n",
      "101/101 [==============================] - 0s 1ms/step - loss: 37585780.0000 - accuracy: 0.0000e+00\n",
      "Epoch 226/250\n",
      "101/101 [==============================] - 0s 1ms/step - loss: 37739272.0000 - accuracy: 0.0000e+00\n",
      "Epoch 227/250\n",
      "101/101 [==============================] - 0s 1ms/step - loss: 37678632.0000 - accuracy: 0.0000e+00\n",
      "Epoch 228/250\n",
      "101/101 [==============================] - 0s 1ms/step - loss: 37655644.0000 - accuracy: 0.0000e+00\n",
      "Epoch 229/250\n",
      "101/101 [==============================] - 0s 1ms/step - loss: 37653948.0000 - accuracy: 0.0000e+00\n",
      "Epoch 230/250\n",
      "101/101 [==============================] - 0s 1ms/step - loss: 37671044.0000 - accuracy: 0.0000e+00\n",
      "Epoch 231/250\n",
      "101/101 [==============================] - 0s 2ms/step - loss: 37624308.0000 - accuracy: 0.0000e+00\n",
      "Epoch 232/250\n",
      "101/101 [==============================] - 0s 2ms/step - loss: 37688908.0000 - accuracy: 0.0000e+00\n",
      "Epoch 233/250\n",
      "101/101 [==============================] - 0s 1ms/step - loss: 37655156.0000 - accuracy: 0.0000e+00\n",
      "Epoch 234/250\n",
      "101/101 [==============================] - 0s 1ms/step - loss: 37638436.0000 - accuracy: 0.0000e+00\n",
      "Epoch 235/250\n",
      "101/101 [==============================] - 0s 2ms/step - loss: 37649632.0000 - accuracy: 0.0000e+00\n",
      "Epoch 236/250\n",
      "101/101 [==============================] - 0s 1ms/step - loss: 37687068.0000 - accuracy: 0.0000e+00\n",
      "Epoch 237/250\n",
      "101/101 [==============================] - 0s 1ms/step - loss: 37591600.0000 - accuracy: 0.0000e+00\n",
      "Epoch 238/250\n",
      "101/101 [==============================] - 0s 1ms/step - loss: 37610992.0000 - accuracy: 0.0000e+00\n",
      "Epoch 239/250\n",
      "101/101 [==============================] - 0s 2ms/step - loss: 37647232.0000 - accuracy: 0.0000e+00\n",
      "Epoch 240/250\n",
      "101/101 [==============================] - 0s 1ms/step - loss: 37512036.0000 - accuracy: 0.0000e+00\n",
      "Epoch 241/250\n",
      "101/101 [==============================] - 0s 1ms/step - loss: 37611604.0000 - accuracy: 0.0000e+00\n",
      "Epoch 242/250\n",
      "101/101 [==============================] - 0s 997us/step - loss: 37609820.0000 - accuracy: 0.0000e+00\n",
      "Epoch 243/250\n",
      "101/101 [==============================] - 0s 1ms/step - loss: 37598236.0000 - accuracy: 0.0000e+00\n",
      "Epoch 244/250\n",
      "101/101 [==============================] - 0s 1ms/step - loss: 37574392.0000 - accuracy: 0.0000e+00\n",
      "Epoch 245/250\n",
      "101/101 [==============================] - 0s 1ms/step - loss: 37705540.0000 - accuracy: 0.0000e+00\n",
      "Epoch 246/250\n",
      "101/101 [==============================] - 0s 1ms/step - loss: 37536508.0000 - accuracy: 0.0000e+00\n",
      "Epoch 247/250\n",
      "101/101 [==============================] - 0s 1ms/step - loss: 37562592.0000 - accuracy: 0.0000e+00\n",
      "Epoch 248/250\n",
      "101/101 [==============================] - 0s 2ms/step - loss: 37670524.0000 - accuracy: 0.0000e+00\n",
      "Epoch 249/250\n",
      "101/101 [==============================] - 0s 1ms/step - loss: 37570824.0000 - accuracy: 0.0000e+00\n",
      "Epoch 250/250\n",
      "101/101 [==============================] - 0s 1ms/step - loss: 37682424.0000 - accuracy: 0.0000e+00\n"
     ]
    },
    {
     "data": {
      "text/plain": [
       "<keras.callbacks.History at 0x23688bfe610>"
      ]
     },
     "execution_count": 215,
     "metadata": {},
     "output_type": "execute_result"
    }
   ],
   "source": [
    "model.fit(x_train, y_train,  epochs=250, batch_size=10)"
   ]
  },
  {
   "cell_type": "code",
   "execution_count": null,
   "id": "3740695c",
   "metadata": {},
   "outputs": [],
   "source": []
  },
  {
   "cell_type": "markdown",
   "id": "daf46350",
   "metadata": {},
   "source": [
    "##  we will build our final model whose RMSE is less :-"
   ]
  },
  {
   "cell_type": "code",
   "execution_count": 240,
   "id": "71002ab3",
   "metadata": {},
   "outputs": [],
   "source": [
    "rmse_ =  {'Models' : ('linear_model ' , 'Decision Tree', 'Ridge Regression' , 'Lasso regularization',\n",
    "                                    'KNN', 'Bagging Regressor ', 'Random Forest Technique' , 'AdaBoost Technique' ,\n",
    "                                     'Extreme Gradient Boosting' ),\n",
    "                        'RMSE' : (rmse_linear, rmse_deci_tree, rmse_ridge, rmse_lasso , rmse_knn , rmse_bagg,\n",
    "                                    rmse_randf, rmse_adaboost ,  rmse_xgb) }"
   ]
  },
  {
   "cell_type": "code",
   "execution_count": 241,
   "id": "f48744a7",
   "metadata": {},
   "outputs": [],
   "source": [
    "rmse_df = pd.DataFrame(rmse_)"
   ]
  },
  {
   "cell_type": "code",
   "execution_count": 244,
   "id": "fcb6dab1",
   "metadata": {},
   "outputs": [
    {
     "data": {
      "text/html": [
       "<div>\n",
       "<style scoped>\n",
       "    .dataframe tbody tr th:only-of-type {\n",
       "        vertical-align: middle;\n",
       "    }\n",
       "\n",
       "    .dataframe tbody tr th {\n",
       "        vertical-align: top;\n",
       "    }\n",
       "\n",
       "    .dataframe thead th {\n",
       "        text-align: right;\n",
       "    }\n",
       "</style>\n",
       "<table border=\"1\" class=\"dataframe\">\n",
       "  <thead>\n",
       "    <tr style=\"text-align: right;\">\n",
       "      <th></th>\n",
       "      <th>Models</th>\n",
       "      <th>RMSE</th>\n",
       "    </tr>\n",
       "  </thead>\n",
       "  <tbody>\n",
       "    <tr>\n",
       "      <th>8</th>\n",
       "      <td>Extreme Gradient Boosting</td>\n",
       "      <td>19.848014</td>\n",
       "    </tr>\n",
       "    <tr>\n",
       "      <th>2</th>\n",
       "      <td>Ridge Regression</td>\n",
       "      <td>29.858066</td>\n",
       "    </tr>\n",
       "    <tr>\n",
       "      <th>3</th>\n",
       "      <td>Lasso regularization</td>\n",
       "      <td>30.164206</td>\n",
       "    </tr>\n",
       "    <tr>\n",
       "      <th>0</th>\n",
       "      <td>linear_model</td>\n",
       "      <td>30.188209</td>\n",
       "    </tr>\n",
       "    <tr>\n",
       "      <th>6</th>\n",
       "      <td>Random Forest Technique</td>\n",
       "      <td>159.883145</td>\n",
       "    </tr>\n",
       "    <tr>\n",
       "      <th>1</th>\n",
       "      <td>Decision Tree</td>\n",
       "      <td>219.786725</td>\n",
       "    </tr>\n",
       "    <tr>\n",
       "      <th>7</th>\n",
       "      <td>AdaBoost Technique</td>\n",
       "      <td>295.468261</td>\n",
       "    </tr>\n",
       "    <tr>\n",
       "      <th>5</th>\n",
       "      <td>Bagging Regressor</td>\n",
       "      <td>329.887436</td>\n",
       "    </tr>\n",
       "    <tr>\n",
       "      <th>4</th>\n",
       "      <td>KNN</td>\n",
       "      <td>632.090378</td>\n",
       "    </tr>\n",
       "  </tbody>\n",
       "</table>\n",
       "</div>"
      ],
      "text/plain": [
       "                      Models        RMSE\n",
       "8  Extreme Gradient Boosting   19.848014\n",
       "2           Ridge Regression   29.858066\n",
       "3       Lasso regularization   30.164206\n",
       "0              linear_model    30.188209\n",
       "6    Random Forest Technique  159.883145\n",
       "1              Decision Tree  219.786725\n",
       "7         AdaBoost Technique  295.468261\n",
       "5         Bagging Regressor   329.887436\n",
       "4                        KNN  632.090378"
      ]
     },
     "execution_count": 244,
     "metadata": {},
     "output_type": "execute_result"
    }
   ],
   "source": [
    "rmse_df.sort_values('RMSE', ascending=True)"
   ]
  },
  {
   "cell_type": "code",
   "execution_count": 247,
   "id": "846e3fbe",
   "metadata": {},
   "outputs": [],
   "source": [
    "final_model = model = XGBRegressor(learning_rate=0.1, max_depth = 3, n_estimators = 200)"
   ]
  },
  {
   "cell_type": "code",
   "execution_count": 248,
   "id": "421d3fae",
   "metadata": {},
   "outputs": [
    {
     "data": {
      "text/plain": [
       "XGBRegressor(base_score=0.5, booster='gbtree', colsample_bylevel=1,\n",
       "             colsample_bynode=1, colsample_bytree=1, enable_categorical=False,\n",
       "             gamma=0, gpu_id=-1, importance_type=None,\n",
       "             interaction_constraints='', learning_rate=0.1, max_delta_step=0,\n",
       "             max_depth=3, min_child_weight=1, missing=nan,\n",
       "             monotone_constraints='()', n_estimators=200, n_jobs=12,\n",
       "             num_parallel_tree=1, predictor='auto', random_state=0, reg_alpha=0,\n",
       "             reg_lambda=1, scale_pos_weight=1, subsample=1, tree_method='exact',\n",
       "             validate_parameters=1, verbosity=None)"
      ]
     },
     "execution_count": 248,
     "metadata": {},
     "output_type": "execute_result"
    }
   ],
   "source": [
    "final_model.fit(X,Y)"
   ]
  },
  {
   "cell_type": "code",
   "execution_count": null,
   "id": "fb995161",
   "metadata": {},
   "outputs": [],
   "source": [
    "prediction = final_model.predict(new_data)"
   ]
  }
 ],
 "metadata": {
  "kernelspec": {
   "display_name": "Python 3",
   "language": "python",
   "name": "python3"
  },
  "language_info": {
   "codemirror_mode": {
    "name": "ipython",
    "version": 3
   },
   "file_extension": ".py",
   "mimetype": "text/x-python",
   "name": "python",
   "nbconvert_exporter": "python",
   "pygments_lexer": "ipython3",
   "version": "3.8.8"
  }
 },
 "nbformat": 4,
 "nbformat_minor": 5
}
